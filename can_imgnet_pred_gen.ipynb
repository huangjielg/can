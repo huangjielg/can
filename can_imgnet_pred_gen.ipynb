{
 "cells": [
  {
   "cell_type": "code",
   "execution_count": 1,
   "id": "1bf1280a-d0c5-4600-9d19-e19860581785",
   "metadata": {},
   "outputs": [],
   "source": [
    "import tensorflow_datasets as tfds\n",
    "import tensorflow as tf\n",
    "import numpy as np\n",
    "import matplotlib.pyplot as plt\n",
    "import os \n",
    "from tensorflow import keras\n",
    "from tensorflow.keras import layers\n",
    "import pickle\n",
    "import tensorflow_hub as hub\n",
    "import progressbar\n",
    "\n",
    "\n",
    "%matplotlib inline  \n"
   ]
  },
  {
   "cell_type": "code",
   "execution_count": 2,
   "id": "d6664098-42fa-4b53-b552-7660649d7d58",
   "metadata": {},
   "outputs": [],
   "source": [
    "#从TFHUB下载模型需要代理\n",
    "os.environ['https_proxy']='http://192.168.0.164:10809'\n",
    "os.environ['http_proxy']='http://192.168.0.164:10809'"
   ]
  },
  {
   "cell_type": "code",
   "execution_count": 3,
   "metadata": {},
   "outputs": [],
   "source": [
    "gpus = tf.config.experimental.list_physical_devices('GPU')\n",
    "for gpu in gpus:\n",
    "  tf.config.experimental.set_memory_growth(gpu, True)"
   ]
  },
  {
   "cell_type": "code",
   "execution_count": 4,
   "id": "7bc6dc69-ef80-4842-905d-0b2900a511b0",
   "metadata": {},
   "outputs": [],
   "source": [
    "((ds_train_imgnet,ds_val_imgnet),ds_info_imgnet) = tfds.load('imagenet2012', split=['train','validation'],shuffle_files=False,with_info=True,as_supervised=True)"
   ]
  },
  {
   "cell_type": "code",
   "execution_count": 5,
   "id": "21345c11-5d26-4e25-88ae-735f4cc9b583",
   "metadata": {},
   "outputs": [],
   "source": [
    "#tfds.as_dataframe(ds_val_imgnet.take(10),ds_info_imgnet)"
   ]
  },
  {
   "cell_type": "code",
   "execution_count": 6,
   "id": "480b42c1-ad22-44ab-ae99-64cf9ccda517",
   "metadata": {},
   "outputs": [],
   "source": [
    "def data_preprocess_imgnet(x,label):\n",
    "    x = tf.image.convert_image_dtype(x, tf.float32)\n",
    "    x = tf.image.resize(x,(224,224))\n",
    "    return (x,label+1)\n",
    "    \n",
    "ds_train_imgnet = ds_train_imgnet.map(data_preprocess_imgnet)\n",
    "ds_val_imgnet  = ds_val_imgnet.map(data_preprocess_imgnet)\n"
   ]
  },
  {
   "cell_type": "code",
   "execution_count": 7,
   "id": "ede6cbfd-6b62-4bca-925d-5fc96d6c0f28",
   "metadata": {},
   "outputs": [],
   "source": [
    "AUTOTUNE = tf.data.AUTOTUNE\n",
    "BATCH_SIZE=256*2\n",
    "ds_train_imgnet = ds_train_imgnet.prefetch(buffer_size=AUTOTUNE).batch(BATCH_SIZE)\n",
    "ds_val_imgnet = ds_val_imgnet.prefetch(buffer_size=AUTOTUNE).batch(BATCH_SIZE)\n"
   ]
  },
  {
   "cell_type": "code",
   "execution_count": null,
   "metadata": {},
   "outputs": [],
   "source": [
    "\n"
   ]
  },
  {
   "cell_type": "code",
   "execution_count": 8,
   "id": "30ab10f6-9688-477b-adf3-5c464c59f80a",
   "metadata": {},
   "outputs": [],
   "source": [
    "d1=ds_val_imgnet.take(10)"
   ]
  },
  {
   "cell_type": "code",
   "execution_count": 9,
   "id": "c54bb811-27a3-4fc6-b82d-04412394c8a1",
   "metadata": {},
   "outputs": [],
   "source": [
    "\n",
    "def create_model():\n",
    "    model = tf.keras.Sequential([\n",
    "    hub.KerasLayer(\"https://tfhub.dev/google/imagenet/resnet_v2_50/classification/5\")\n",
    "    ])\n",
    "    model.build([None, 224, 224, 3])  # Batch input shape.\n",
    "    model.compile(optimizer='adam',\n",
    "                    loss=tf.keras.losses.SparseCategoricalCrossentropy(from_logits=True),\n",
    "                    metrics=['accuracy'])\n",
    "    return model\n",
    "\n",
    "#strategy = tf.distribute.MirroredStrategy()\n",
    "#with strategy.scope():\n",
    "\n",
    "model = create_model()    \n",
    "    "
   ]
  },
  {
   "cell_type": "code",
   "execution_count": 10,
   "metadata": {},
   "outputs": [],
   "source": [
    "def do_pred(ds,name_pred,name_bg,PG_FILE='pgfile.p'):\n",
    " \n",
    "  pred_file = open(name_pred,'wb')\n",
    "  bg_file = open(name_bg,'wb')\n",
    "  \n",
    "  ds = ds.enumerate()\n",
    "  n=0\n",
    "  try:\n",
    "    for (i,element) in ds.as_numpy_iterator():\n",
    "        #y_hat=model.predict(element[0])\n",
    "        y_hat=model.predict_on_batch(element[0])\n",
    "        y= element[1]\n",
    "        pickle.dump(y_hat,pred_file)\n",
    "        pickle.dump(y,bg_file)\n",
    "        n=n+1\n",
    "  except E as N:\n",
    "    print(N)\n",
    "    print('except n=',n)\n",
    "    pred_file.close()\n",
    "    bg_file.close()\n"
   ]
  },
  {
   "cell_type": "markdown",
   "metadata": {},
   "source": [
    "生成验证集上的结果\n",
    "大约需要3分钟"
   ]
  },
  {
   "cell_type": "code",
   "execution_count": 14,
   "metadata": {},
   "outputs": [],
   "source": [
    "do_pred(ds_val_imgnet,'imgnet_val_pred.p','imgnet_val_bg.p')"
   ]
  },
  {
   "cell_type": "markdown",
   "metadata": {},
   "source": [
    "生成训练上的结果\n",
    "\n",
    "大约需要75分钟"
   ]
  },
  {
   "cell_type": "code",
   "execution_count": 12,
   "metadata": {},
   "outputs": [],
   "source": [
    "do_pred(ds_train_imgnet,'imgnet_train_pred.p','imgnet_train_bg.p')"
   ]
  },
  {
   "cell_type": "code",
   "execution_count": 13,
   "metadata": {},
   "outputs": [
    {
     "name": "stdout",
     "output_type": "stream",
     "text": [
      "val_size= tf.Tensor(98, shape=(), dtype=int64) train_size= tf.Tensor(2503, shape=(), dtype=int64)\n"
     ]
    }
   ],
   "source": [
    "print('val_size=',ds_val_imgnet.cardinality(),'train_size=',ds_train_imgnet.cardinality())"
   ]
  },
  {
   "cell_type": "code",
   "execution_count": 1,
   "metadata": {},
   "outputs": [],
   "source": [
    "def load_ds(filename):\n",
    "    with open(filename,'rb')  as f:\n",
    "        a=pickle.load(f)\n",
    "        a=np.array(a)\n",
    "        sz=np.shape(a)\n",
    "        last=sz[0]\n",
    "        \n",
    "        while True:\n",
    "            try:\n",
    "                b=pickle.load(f)\n",
    "                szb=np.shape(b)\n",
    "                if szb[0]+last>sz[0]:\n",
    "                    if len(szb) == 1:\n",
    "                        sz=(sz[0]*2,)\n",
    "                    else:\n",
    "                        sz=(sz[0]*2,sz[1])\n",
    "                    a.resize(sz)\n",
    "                a[last:last+szb[0]]=b[0:szb[0]]\n",
    "                last=last+szb[0]\n",
    "            except:\n",
    "                break\n",
    "            \n",
    "        if len(sz)==2:\n",
    "            sz=(last,sz[1])\n",
    "        else:\n",
    "            sz=(last,)\n",
    "        a.resize(sz)\n",
    "    return a"
   ]
  },
  {
   "cell_type": "code",
   "execution_count": null,
   "metadata": {},
   "outputs": [],
   "source": []
  }
 ],
 "metadata": {
  "interpreter": {
   "hash": "5c89346591e8e661c34c4465cb398b9a571765d3dab57787c18458a9a245a94c"
  },
  "kernelspec": {
   "display_name": "Python 3.6.9 64-bit ('venv': venv)",
   "name": "python3"
  },
  "language_info": {
   "codemirror_mode": {
    "name": "ipython",
    "version": 3
   },
   "file_extension": ".py",
   "mimetype": "text/x-python",
   "name": "python",
   "nbconvert_exporter": "python",
   "pygments_lexer": "ipython3",
   "version": "3.6.9"
  }
 },
 "nbformat": 4,
 "nbformat_minor": 5
}
