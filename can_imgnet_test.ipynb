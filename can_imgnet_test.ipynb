{
 "cells": [
  {
   "cell_type": "markdown",
   "metadata": {},
   "source": [
    "在阅读 https://kexue.fm/archives/8728 之后，觉得CAN的原理不好理解。\n",
    "\n",
    "阅读原文后也没完全理解其中的思想。\n",
    "\n",
    "主要可以概括如下：\n",
    "  假设试卷中A,B,C,D是等概率的。\n",
    "\n",
    "  一张试卷仅仅4道题目，前3道有把握答案为A,B,C,最后一道没有把握的题目是否为D?\n",
    "\n",
    "  从A,B,C,D等概率可以推算出，试卷中A,B,C,D的等概率出现的机率较大。\n",
    "\n",
    "  这是因为试卷中出现A,B,C,D包含了4! 总共24种情况，其余比如说，两个A,其他为B,C,D中的两个，则仅仅包含了4！/2! 12种情况。\n",
    "  \n",
    "\n",
    "\n",
    "不过是不是能通过简单的后处理来提升网络性能呢？\n",
    "\n",
    "这里试验了3种情况。分别是：仅仅将预测概率乘以一个值，对概率进行线性变换（乘以一个矩阵），或者进行完全的线性变换（乘以几个矩阵再加上偏置）\n",
    "用神经网络的方法来训练系数。这些系数被初始化为全等变换。\n",
    "实验结果显示，上面的方法几乎没有区别。\n",
    "\n",
    "他们效果上等同于一个更简单的变换方法。就是把系数设置为类别的实际数目/网络预测数目。\n",
    "\n",
    "\n",
    "这方法于CAN背后的思想不同。\n",
    "这不是个全局的方法，这就像一个人考试时，发现自己每次选择A时，正确答案为B的概率都会增加一些，所以对每道题目的答案都做一个调整。\n",
    "\n",
    "\n",
    "后续改进:分类器的输出，理论上为迪利克雷分布。能不能对模型再校正一次，来得到更好的效果呢?\n",
    "\n",
    "\n",
    "  \n",
    " \n",
    "\n",
    "\n"
   ]
  },
  {
   "cell_type": "code",
   "execution_count": 1,
   "metadata": {},
   "outputs": [],
   "source": [
    "import tensorflow_datasets as tfds\n",
    "import tensorflow as tf\n",
    "import numpy as np\n",
    "import matplotlib.pyplot as plt\n",
    "import os \n",
    "from tensorflow import keras\n",
    "from tensorflow.keras import layers\n",
    "import pickle\n",
    "import tensorflow_hub as hub\n"
   ]
  },
  {
   "cell_type": "markdown",
   "metadata": {},
   "source": []
  },
  {
   "cell_type": "code",
   "execution_count": 2,
   "metadata": {},
   "outputs": [],
   "source": [
    "import os\n",
    "os.environ[\"CUDA_VISIBLE_DEVICES\"] = \"0\""
   ]
  },
  {
   "cell_type": "markdown",
   "metadata": {},
   "source": [
    "对Resnet的结果进行一次线性变换。初始化为单位矩阵。\n"
   ]
  },
  {
   "cell_type": "code",
   "execution_count": 3,
   "metadata": {},
   "outputs": [],
   "source": [
    "\n",
    "class Mylinear(layers.Layer):\n",
    "\n",
    "  def __init__(self, units=1001,**kwargs):\n",
    "      super(Mylinear, self).__init__(**kwargs)\n",
    "      self.w= tf.Variable(\n",
    "          np.ones(units),\n",
    "          dtype=tf.float32,\n",
    "         trainable=True \n",
    "      )\n",
    "\n",
    "  def build(self, input_shape):  # Create the state of the layer (weights)\n",
    "      pass\n",
    "  \n",
    "  def call(self, inputs):  # Defines the computation from inputs to outputs\n",
    "      return inputs*self.w"
   ]
  },
  {
   "cell_type": "code",
   "execution_count": 4,
   "metadata": {},
   "outputs": [],
   "source": [
    "   \n",
    "def make_model(t):\n",
    "    #使用均方根误差而不是交叉熵，\n",
    "    #可能因为均方根误差产生的结果更加平均\n",
    "    myloss1=tf.keras.losses.MeanSquaredError()\n",
    "    #myloss1=tf.keras.losses.CategoricalCrossentropy()\n",
    "    \n",
    "    if t=='dense':\n",
    "        model=keras.Sequential(\n",
    "            layers.Dense(1001,name='dense1',use_bias=False,kernel_initializer=tf.keras.initializers.Identity())\n",
    "        )\n",
    "    elif t=='dense_with_bias':\n",
    "        model=keras.Sequential(\n",
    "            layers.Dense(1001,name='dense1',use_bias=True,kernel_initializer=tf.keras.initializers.Identity())\n",
    "        )\n",
    "\n",
    "    elif t=='linear':\n",
    "          model=keras.Sequential(\n",
    "            Mylinear(1001,name='dense1')\n",
    "        )\n",
    "    else:\n",
    "        raise Exception(\"unsupported type\")\n",
    "\n",
    "    model.compile(optimizer='RMSprop',\n",
    "                    loss=myloss1,\n",
    "                    metrics=['accuracy'])\n",
    "    return model"
   ]
  },
  {
   "cell_type": "code",
   "execution_count": null,
   "metadata": {},
   "outputs": [],
   "source": [
    "\n",
    "\n"
   ]
  },
  {
   "cell_type": "code",
   "execution_count": 5,
   "metadata": {},
   "outputs": [],
   "source": [
    "def ds_generator(pred,bg):\n",
    "    def g1():\n",
    "        f1=open(pred,'rb')\n",
    "        f2=open(bg,'rb')\n",
    "        while True:\n",
    "            try:\n",
    "                y_hat=pickle.load(f1)\n",
    "                y=pickle.load(f2)\n",
    "                for i,a in enumerate(y_hat):\n",
    "                    #print(a)\n",
    "                    #print(i)\n",
    "                    yield tf.convert_to_tensor(a),tf.convert_to_tensor(y[i])\n",
    "            except:\n",
    "                break\n",
    "\n",
    "    return g1\n",
    "\n",
    "def make_ds(pred,bg):\n",
    "        ds=tf.data.Dataset.from_generator(ds_generator(pred,bg),output_signature=(\n",
    "                tf.TensorSpec(shape=(1001,), dtype=tf.float32),\n",
    "                tf.TensorSpec(shape=(), dtype=tf.int64),\n",
    "                )\n",
    "        ).prefetch(buffer_size=tf.data.AUTOTUNE).cache()\n",
    "        ds_batch=ds.map( lambda x,y: (tf.nn.softmax(x),tf.one_hot(y,depth=1001))).batch(1024)\n",
    "        return (ds,ds_batch)"
   ]
  },
  {
   "cell_type": "code",
   "execution_count": 6,
   "metadata": {},
   "outputs": [],
   "source": [
    "\n",
    "\n",
    "ds_train,ds_train_batch=make_ds('imgnet_train_pred.p','imgnet_train_bg.p')\n",
    "ds_val,ds_val_batch=make_ds('imgnet_val_pred.p','imgnet_val_bg.p')\n",
    "\n"
   ]
  },
  {
   "cell_type": "markdown",
   "metadata": {},
   "source": [
    "使用三种神经网络比较性能\n",
    "1)矩阵\n",
    "2)乘法\n",
    "3)全线性变换"
   ]
  },
  {
   "cell_type": "code",
   "execution_count": 7,
   "metadata": {},
   "outputs": [],
   "source": [
    "model_full=make_model('dense')\n",
    "model_lin=make_model('linear')\n",
    "model_full_with_bias=make_model('dense_with_bias')\n"
   ]
  },
  {
   "cell_type": "code",
   "execution_count": 8,
   "metadata": {},
   "outputs": [
    {
     "name": "stdout",
     "output_type": "stream",
     "text": [
      "49/49 [==============================] - 37s 746ms/step - loss: 4.7580e-04 - accuracy: 0.6747\n"
     ]
    }
   ],
   "source": [
    "hist_base=model_full.evaluate(ds_val_batch)"
   ]
  },
  {
   "cell_type": "code",
   "execution_count": 9,
   "metadata": {},
   "outputs": [
    {
     "name": "stdout",
     "output_type": "stream",
     "text": [
      "1252/1252 [==============================] - 926s 740ms/step - loss: 3.6965e-04 - accuracy: 0.7406 - val_loss: 4.5667e-04 - val_accuracy: 0.6761\n"
     ]
    },
    {
     "data": {
      "text/plain": [
       "<keras.callbacks.History at 0x7fb90e5498d0>"
      ]
     },
     "execution_count": 9,
     "metadata": {},
     "output_type": "execute_result"
    }
   ],
   "source": [
    "model_lin.fit(ds_train_batch,validation_data=ds_val_batch\n",
    "    ,epochs=1)"
   ]
  },
  {
   "cell_type": "code",
   "execution_count": 10,
   "metadata": {},
   "outputs": [
    {
     "name": "stdout",
     "output_type": "stream",
     "text": [
      "1252/1252 [==============================] - 12s 9ms/step - loss: 3.6885e-04 - accuracy: 0.7409 - val_loss: 4.5538e-04 - val_accuracy: 0.6764\n"
     ]
    },
    {
     "data": {
      "text/plain": [
       "<keras.callbacks.History at 0x7fb90002e278>"
      ]
     },
     "execution_count": 10,
     "metadata": {},
     "output_type": "execute_result"
    }
   ],
   "source": [
    "model_full.fit(ds_train_batch,validation_data=ds_val_batch\n",
    "    ,epochs=1)"
   ]
  },
  {
   "cell_type": "code",
   "execution_count": 11,
   "metadata": {},
   "outputs": [
    {
     "name": "stdout",
     "output_type": "stream",
     "text": [
      "1252/1252 [==============================] - 11s 9ms/step - loss: 3.6924e-04 - accuracy: 0.7409 - val_loss: 4.5624e-04 - val_accuracy: 0.6764\n"
     ]
    },
    {
     "data": {
      "text/plain": [
       "<keras.callbacks.History at 0x7fb658de9c18>"
      ]
     },
     "execution_count": 11,
     "metadata": {},
     "output_type": "execute_result"
    }
   ],
   "source": [
    "\n",
    "model_full_with_bias.fit(ds_train_batch,validation_data=ds_val_batch\n",
    "    ,epochs=1)"
   ]
  },
  {
   "cell_type": "markdown",
   "metadata": {},
   "source": [
    "上面使用了神经网络的方法来校正模型的输出。\n",
    "\n",
    "下边使用个更简单的方法。\n",
    "\n",
    "统计验证集上每个类别的预测的个数，真实类别的个数。\n",
    "\n",
    "使用二者的比值作为校正系数。\n"
   ]
  },
  {
   "cell_type": "code",
   "execution_count": 12,
   "metadata": {},
   "outputs": [],
   "source": [
    "y_p=np.zeros(1001)\n",
    "y_p_pred=np.zeros(1001)\n",
    "for y_hat,y in ds_train.as_numpy_iterator():\n",
    "    \n",
    "    y_p[y]=y_p[y]+1\n",
    "    p=np.argmax(y_hat)\n",
    "    y_p_pred[p]=y_p_pred[p]+1\n",
    "\n"
   ]
  },
  {
   "cell_type": "code",
   "execution_count": 13,
   "metadata": {},
   "outputs": [
    {
     "name": "stderr",
     "output_type": "stream",
     "text": [
      "/home/hj/venv/lib/python3.6/site-packages/ipykernel_launcher.py:7: RuntimeWarning: invalid value encountered in true_divide\n",
      "  import sys\n"
     ]
    },
    {
     "data": {
      "text/plain": [
       "[<matplotlib.lines.Line2D at 0x7fb61fe39be0>]"
      ]
     },
     "execution_count": 13,
     "metadata": {},
     "output_type": "execute_result"
    },
    {
     "data": {
      "image/png": "[encoded data removed]",
      "text/plain": [
       "<Figure size 1440x720 with 3 Axes>"
      ]
     },
     "metadata": {
      "needs_background": "light"
     },
     "output_type": "display_data"
    }
   ],
   "source": [
    "plt.figure(figsize=(20,10))\n",
    "plt.subplot(1,3,1)\n",
    "plt.plot(y_p)\n",
    "plt.subplot(1,3,2)\n",
    "plt.plot(y_p_pred)\n",
    "plt.subplot(1,3,3)\n",
    "plt.plot(y_p/y_p_pred)"
   ]
  },
  {
   "cell_type": "code",
   "execution_count": 24,
   "metadata": {},
   "outputs": [
    {
     "name": "stdout",
     "output_type": "stream",
     "text": [
      "49/49 [==============================] - 2s 29ms/step - loss: 4.7580e-04 - accuracy: 0.6747\n",
      "1252/1252 [==============================] - 14s 10ms/step - loss: 3.7869e-04 - accuracy: 0.7400\n"
     ]
    },
    {
     "data": {
      "text/plain": [
       "[0.0003786897286772728, 0.7399831414222717]"
      ]
     },
     "execution_count": 24,
     "metadata": {},
     "output_type": "execute_result"
    }
   ],
   "source": [
    "model_lin_simple=make_model('linear')\n",
    "model_lin_simple.evaluate(ds_val_batch)\n",
    "model_lin_simple.evaluate(ds_train_batch)"
   ]
  },
  {
   "cell_type": "code",
   "execution_count": 29,
   "metadata": {},
   "outputs": [],
   "source": [
    "layer=model_lin_simple.get_layer('dense1')"
   ]
  },
  {
   "cell_type": "code",
   "execution_count": 20,
   "metadata": {},
   "outputs": [
    {
     "name": "stderr",
     "output_type": "stream",
     "text": [
      "/home/hj/venv/lib/python3.6/site-packages/ipykernel_launcher.py:1: RuntimeWarning: invalid value encountered in true_divide\n",
      "  \"\"\"Entry point for launching an IPython kernel.\n"
     ]
    }
   ],
   "source": [
    "a=y_p/y_p_pred\n",
    "a[0]=1"
   ]
  },
  {
   "cell_type": "code",
   "execution_count": 101,
   "metadata": {},
   "outputs": [],
   "source": [
    "layer.set_weights([np.clip(a,0.5,2)])"
   ]
  },
  {
   "cell_type": "code",
   "execution_count": 31,
   "metadata": {},
   "outputs": [
    {
     "name": "stdout",
     "output_type": "stream",
     "text": [
      "1252/1252 [==============================] - 14s 10ms/step - loss: 3.8365e-04 - accuracy: 0.7416\n"
     ]
    },
    {
     "data": {
      "text/plain": [
       "[0.00038365263026207685, 0.7415879368782043]"
      ]
     },
     "execution_count": 31,
     "metadata": {},
     "output_type": "execute_result"
    }
   ],
   "source": [
    "model_lin_simple.evaluate(ds_train_batch)"
   ]
  },
  {
   "cell_type": "code",
   "execution_count": 102,
   "metadata": {},
   "outputs": [
    {
     "name": "stdout",
     "output_type": "stream",
     "text": [
      "49/49 [==============================] - 1s 12ms/step - loss: 4.7898e-04 - accuracy: 0.6765\n"
     ]
    },
    {
     "data": {
      "text/plain": [
       "[0.00047897850163280964, 0.6764600276947021]"
      ]
     },
     "execution_count": 102,
     "metadata": {},
     "output_type": "execute_result"
    }
   ],
   "source": [
    "model_lin_simple.evaluate(ds_val_batch)"
   ]
  },
  {
   "cell_type": "markdown",
   "metadata": {},
   "source": [
    "统计模型的结果"
   ]
  },
  {
   "cell_type": "code",
   "execution_count": 103,
   "metadata": {},
   "outputs": [],
   "source": [
    "\n",
    "model=model_lin_simple\n",
    "c_orig_true=0\n",
    "c_new_true=0\n",
    "c_orig_true_new_false=0\n",
    "c_orig_false_new_true=0\n",
    "orig_true_new_false =[]\n",
    "orig_false_new_true =[]\n",
    "for sample in ds_val_batch.as_numpy_iterator():\n",
    "    y_hat,y=sample\n",
    "    y_hat_hat = model.predict(y_hat)\n",
    "    orig_true=tf.argmax(y_hat,axis=1)==tf.argmax(y,axis=1)\n",
    "    new_true = tf.argmax(y_hat_hat,axis=1)==tf.argmax(y,axis=1)\n",
    "    c_orig_true=c_orig_true+np.sum(orig_true)\n",
    "    c_new_true=c_new_true+np.sum(new_true)\n",
    "    orig_true_new_false_index=np.logical_and(orig_true,np.logical_not(new_true))\n",
    "    orig_false_new_true_index=np.logical_and(new_true,np.logical_not(orig_true))\n",
    "    c_orig_true_new_false = c_orig_true_new_false + np.sum(orig_true_new_false_index)\n",
    "    c_orig_false_new_true = c_orig_false_new_true + np.sum(orig_false_new_true_index)\n",
    "    orig_true_new_false.append((y_hat[orig_true_new_false_index],y[orig_true_new_false_index]))\n",
    "    orig_false_new_true.append((y_hat[orig_false_new_true_index],y[orig_false_new_true_index]))\n",
    "    "
   ]
  },
  {
   "cell_type": "code",
   "execution_count": 104,
   "metadata": {},
   "outputs": [
    {
     "data": {
      "text/plain": [
       "(33734, 33823, 231, 320)"
      ]
     },
     "execution_count": 104,
     "metadata": {},
     "output_type": "execute_result"
    }
   ],
   "source": [
    "c_orig_true,c_new_true,c_orig_true_new_false,c_orig_false_new_true"
   ]
  },
  {
   "cell_type": "code",
   "execution_count": 61,
   "metadata": {},
   "outputs": [
    {
     "data": {
      "text/plain": [
       "0.0025790004150114676"
      ]
     },
     "execution_count": 61,
     "metadata": {},
     "output_type": "execute_result"
    }
   ],
   "source": [
    "c_new_true/c_orig_true-1"
   ]
  }
 ],
 "metadata": {
  "interpreter": {
   "hash": "5c89346591e8e661c34c4465cb398b9a571765d3dab57787c18458a9a245a94c"
  },
  "kernelspec": {
   "display_name": "Python 3.6.9 64-bit ('venv': venv)",
   "name": "python3"
  },
  "language_info": {
   "codemirror_mode": {
    "name": "ipython",
    "version": 3
   },
   "file_extension": ".py",
   "mimetype": "text/x-python",
   "name": "python",
   "nbconvert_exporter": "python",
   "pygments_lexer": "ipython3",
   "version": "3.6.9"
  },
  "orig_nbformat": 4
 },
 "nbformat": 4,
 "nbformat_minor": 2
}
